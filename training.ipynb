{
 "cells": [
  {
   "cell_type": "code",
   "execution_count": 1,
   "metadata": {
    "ExecuteTime": {
     "end_time": "2020-05-10T10:43:49.586200Z",
     "start_time": "2020-05-10T10:43:49.322869Z"
    }
   },
   "outputs": [],
   "source": [
    "from warnings import filterwarnings\n",
    "filterwarnings('ignore')\n",
    "%matplotlib inline"
   ]
  },
  {
   "cell_type": "code",
   "execution_count": null,
   "metadata": {},
   "outputs": [],
   "source": [
    "#!git clone https://github.com/ieee8023/covid-chestxray-dataset.git\n",
    "#!wget https://data.mendeley.com/datasets/rscbjbr9sj/2/files/f12eaf6d-6023-432f-acc9-80c9d7393433/ChestXRay2017.zip"
   ]
  },
  {
   "cell_type": "code",
   "execution_count": 2,
   "metadata": {
    "ExecuteTime": {
     "end_time": "2020-05-10T10:43:51.118740Z",
     "start_time": "2020-05-10T10:43:50.993448Z"
    }
   },
   "outputs": [],
   "source": [
    "import requests"
   ]
  },
  {
   "cell_type": "code",
   "execution_count": 3,
   "metadata": {
    "ExecuteTime": {
     "end_time": "2020-05-10T10:44:57.540584Z",
     "start_time": "2020-05-10T10:44:57.531400Z"
    }
   },
   "outputs": [],
   "source": [
    "tranform = \"https://raw.githubusercontent.com/ashvinijangid/covid-19-x-ray/master/data_tranform.py\"\n",
    "dataset = \"https://raw.githubusercontent.com/ashvinijangid/covid-19-x-ray/master/dataset.py\"\n",
    "model = \"https://raw.githubusercontent.com/ashvinijangid/covid-19-x-ray/master/Net.py\"\n",
    "\n",
    "libs = [tranform,dataset ,model]"
   ]
  },
  {
   "cell_type": "code",
   "execution_count": null,
   "metadata": {},
   "outputs": [],
   "source": [
    "for lib in libs:\n",
    "    data = requests.get(url, allow_redirects=True).content\n",
    "    open(lib.split(\"/\")[-1], 'wb').write(data)"
   ]
  },
  {
   "cell_type": "code",
   "execution_count": null,
   "metadata": {},
   "outputs": [],
   "source": [
    "import dataset"
   ]
  }
 ],
 "metadata": {
  "kernelspec": {
   "display_name": "Python 3",
   "language": "python",
   "name": "python3"
  },
  "language_info": {
   "codemirror_mode": {
    "name": "ipython",
    "version": 3
   },
   "file_extension": ".py",
   "mimetype": "text/x-python",
   "name": "python",
   "nbconvert_exporter": "python",
   "pygments_lexer": "ipython3",
   "version": "3.7.7"
  }
 },
 "nbformat": 4,
 "nbformat_minor": 4
}
