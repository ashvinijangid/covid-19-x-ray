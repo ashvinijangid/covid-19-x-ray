{
 "cells": [
  {
   "cell_type": "code",
   "execution_count": 1,
   "metadata": {
    "ExecuteTime": {
     "end_time": "2020-05-11T21:25:35.469678Z",
     "start_time": "2020-05-11T21:25:35.183691Z"
    }
   },
   "outputs": [],
   "source": [
    "from warnings import filterwarnings\n",
    "filterwarnings('ignore')\n",
    "%matplotlib inline"
   ]
  },
  {
   "cell_type": "code",
   "execution_count": 2,
   "metadata": {
    "ExecuteTime": {
     "end_time": "2020-05-11T21:25:35.473926Z",
     "start_time": "2020-05-11T21:25:35.471663Z"
    }
   },
   "outputs": [],
   "source": [
    "!git clone https://github.com/ieee8023/covid-chestxray-dataset.git\n",
    "!wget https://raw.githubusercontent.com/ashvinijangid/covid-19-x-ray/master/data_tranform.py\n",
    "!wget https://raw.githubusercontent.com/ashvinijangid/covid-19-x-ray/master/dataset.py\n",
    "!wget https://raw.githubusercontent.com/ashvinijangid/covid-19-x-ray/master/model.py\n",
    "!wget https://raw.githubusercontent.com/ashvinijangid/covid-19-x-ray/master/train.py"
   ]
  },
  {
   "cell_type": "code",
   "execution_count": 3,
   "metadata": {
    "ExecuteTime": {
     "end_time": "2020-05-11T21:25:36.227901Z",
     "start_time": "2020-05-11T21:25:35.475798Z"
    }
   },
   "outputs": [
    {
     "name": "stdout",
     "output_type": "stream",
     "text": [
      ":\t[dataset already present]\n"
     ]
    }
   ],
   "source": [
    "from train import create_dataset, train"
   ]
  },
  {
   "cell_type": "code",
   "execution_count": 4,
   "metadata": {
    "ExecuteTime": {
     "end_time": "2020-05-11T21:33:17.504853Z",
     "start_time": "2020-05-11T21:25:36.229241Z"
    }
   },
   "outputs": [
    {
     "name": "stdout",
     "output_type": "stream",
     "text": [
      "Epoch: 1, Avg. Loss: 0.6927780637554094, Accuracy: 51.30718954248366\n",
      "Epoch: 2, Avg. Loss: 0.688223217047897, Accuracy: 49.34640522875817\n",
      "Epoch: 3, Avg. Loss: 0.6845375463074329, Accuracy: 52.287581699346404\n",
      "Epoch: 4, Avg. Loss: 0.6821673508563073, Accuracy: 50.98039215686274\n",
      "Epoch: 5, Avg. Loss: 0.6815582560557946, Accuracy: 55.88235294117647\n",
      "Epoch: 6, Avg. Loss: 0.6599042812983195, Accuracy: 62.41830065359477\n",
      "Epoch: 7, Avg. Loss: 0.6654723017823463, Accuracy: 63.39869281045752\n",
      "Epoch: 8, Avg. Loss: 0.6386447385245678, Accuracy: 65.359477124183\n",
      "Epoch: 9, Avg. Loss: 0.6242762936486138, Accuracy: 65.68627450980392\n",
      "Epoch: 10, Avg. Loss: 0.6404883136936262, Accuracy: 62.745098039215684\n"
     ]
    }
   ],
   "source": [
    "model=train(10, 32)"
   ]
  }
 ],
 "metadata": {
  "kernelspec": {
   "display_name": "Python 3",
   "language": "python",
   "name": "python3"
  },
  "language_info": {
   "codemirror_mode": {
    "name": "ipython",
    "version": 3
   },
   "file_extension": ".py",
   "mimetype": "text/x-python",
   "name": "python",
   "nbconvert_exporter": "python",
   "pygments_lexer": "ipython3",
   "version": "3.7.7"
  }
 },
 "nbformat": 4,
 "nbformat_minor": 4
}
