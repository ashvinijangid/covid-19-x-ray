{
 "cells": [
  {
   "cell_type": "code",
   "execution_count": 1,
   "metadata": {
    "ExecuteTime": {
     "end_time": "2020-05-10T10:56:28.973954Z",
     "start_time": "2020-05-10T10:56:28.716563Z"
    }
   },
   "outputs": [],
   "source": [
    "from warnings import filterwarnings\n",
    "filterwarnings('ignore')\n",
    "%matplotlib inline"
   ]
  },
  {
   "cell_type": "code",
   "execution_count": 2,
   "metadata": {
    "ExecuteTime": {
     "end_time": "2020-05-10T10:56:28.978114Z",
     "start_time": "2020-05-10T10:56:28.975925Z"
    }
   },
   "outputs": [],
   "source": [
    "#!git clone https://github.com/ieee8023/covid-chestxray-dataset.git\n",
    "#!wget https://data.mendeley.com/datasets/rscbjbr9sj/2/files/f12eaf6d-6023-432f-acc9-80c9d7393433/ChestXRay2017.zip"
   ]
  },
  {
   "cell_type": "code",
   "execution_count": 3,
   "metadata": {
    "ExecuteTime": {
     "end_time": "2020-05-10T10:56:29.106305Z",
     "start_time": "2020-05-10T10:56:28.979921Z"
    }
   },
   "outputs": [],
   "source": [
    "import requests"
   ]
  },
  {
   "cell_type": "code",
   "execution_count": 4,
   "metadata": {
    "ExecuteTime": {
     "end_time": "2020-05-10T10:56:29.112167Z",
     "start_time": "2020-05-10T10:56:29.108062Z"
    }
   },
   "outputs": [],
   "source": [
    "tranform = \"https://raw.githubusercontent.com/ashvinijangid/covid-19-x-ray/master/data_tranform.py\"\n",
    "dataset = \"https://raw.githubusercontent.com/ashvinijangid/covid-19-x-ray/master/dataset.py\"\n",
    "model = \"https://raw.githubusercontent.com/ashvinijangid/covid-19-x-ray/master/Net.py\"\n",
    "\n",
    "libs = [tranform,dataset ,model]"
   ]
  },
  {
   "cell_type": "code",
   "execution_count": 5,
   "metadata": {
    "ExecuteTime": {
     "end_time": "2020-05-10T10:56:29.121731Z",
     "start_time": "2020-05-10T10:56:29.113896Z"
    }
   },
   "outputs": [],
   "source": [
    "# for lib in libs:\n",
    "#     data = requests.get(lib, allow_redirects=True).content\n",
    "#     open(lib.split(\"/\")[-1], 'wb').write(data)"
   ]
  },
  {
   "cell_type": "code",
   "execution_count": 6,
   "metadata": {
    "ExecuteTime": {
     "end_time": "2020-05-10T10:56:29.127683Z",
     "start_time": "2020-05-10T10:56:29.124635Z"
    }
   },
   "outputs": [],
   "source": [
    "# import dataset"
   ]
  }
 ],
 "metadata": {
  "kernelspec": {
   "display_name": "Python 3",
   "language": "python",
   "name": "python3"
  },
  "language_info": {
   "codemirror_mode": {
    "name": "ipython",
    "version": 3
   },
   "file_extension": ".py",
   "mimetype": "text/x-python",
   "name": "python",
   "nbconvert_exporter": "python",
   "pygments_lexer": "ipython3",
   "version": "3.7.7"
  }
 },
 "nbformat": 4,
 "nbformat_minor": 4
}
