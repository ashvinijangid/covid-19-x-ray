{
 "cells": [
  {
   "cell_type": "code",
   "execution_count": 1,
   "metadata": {
    "ExecuteTime": {
     "end_time": "2020-05-10T08:47:17.769096Z",
     "start_time": "2020-05-10T08:47:16.672748Z"
    }
   },
   "outputs": [],
   "source": [
    "from warnings import filterwarnings\n",
    "import os\n",
    "import glob\n",
    "from random import choice\n",
    "import pandas as pd\n",
    "import torch.nn as nn\n",
    "import torch.nn.functional as F\n",
    "from PIL import Image\n",
    "from IPython.display import clear_output\n",
    "import numpy as np\n",
    "import matplotlib.pyplot as plt\n",
    "import matplotlib.image as img\n",
    "import torch\n",
    "from torch.utils.data import Dataset, DataLoader\n",
    "from torchvision import transforms, datasets, utils , models\n",
    "from pathlib import Path\n",
    "import cv2\n",
    "filterwarnings('ignore')\n",
    "%matplotlib inline"
   ]
  },
  {
   "cell_type": "code",
   "execution_count": 2,
   "metadata": {
    "ExecuteTime": {
     "end_time": "2020-05-10T08:47:17.773487Z",
     "start_time": "2020-05-10T08:47:17.770808Z"
    }
   },
   "outputs": [],
   "source": [
    "repo_path = Path(os.getcwd()) / 'covid-chestxray-dataset'"
   ]
  },
  {
   "cell_type": "code",
   "execution_count": 3,
   "metadata": {
    "ExecuteTime": {
     "end_time": "2020-05-10T08:47:17.780991Z",
     "start_time": "2020-05-10T08:47:17.775321Z"
    }
   },
   "outputs": [
    {
     "name": "stdout",
     "output_type": "stream",
     "text": [
      "Data is Already There\n"
     ]
    }
   ],
   "source": [
    "import subprocess\n",
    "if not repo_path.is_dir():\n",
    "    process = subprocess.Popen(['git',\n",
    "                                'clone',\n",
    "                                'https://github.com/ieee8023/covid-chestxray-dataset.git'],\n",
    "                               stdout=subprocess.PIPE,\n",
    "                               stderr=subprocess.PIPE)\n",
    "    print(process.stdout.read())\n",
    "else:\n",
    "    print(\"Data is Already There\")"
   ]
  },
  {
   "cell_type": "code",
   "execution_count": 4,
   "metadata": {
    "ExecuteTime": {
     "end_time": "2020-05-10T08:47:17.786449Z",
     "start_time": "2020-05-10T08:47:17.782919Z"
    }
   },
   "outputs": [],
   "source": [
    "pd.set_option('display.max_columns', None)"
   ]
  },
  {
   "cell_type": "code",
   "execution_count": 5,
   "metadata": {
    "ExecuteTime": {
     "end_time": "2020-05-10T08:47:17.803516Z",
     "start_time": "2020-05-10T08:47:17.788557Z"
    }
   },
   "outputs": [],
   "source": [
    "metadata = pd.read_csv(repo_path / 'metadata.csv')"
   ]
  },
  {
   "cell_type": "code",
   "execution_count": 6,
   "metadata": {
    "ExecuteTime": {
     "end_time": "2020-05-10T08:47:17.812610Z",
     "start_time": "2020-05-10T08:47:17.805174Z"
    }
   },
   "outputs": [],
   "source": [
    "x_ray_data = metadata[metadata.modality == 'X-ray']\n",
    "x_ray = x_ray_data[x_ray_data.view=='PA']\n",
    "final_data = x_ray[['sex','age','finding','filename','clinical_notes']]"
   ]
  },
  {
   "cell_type": "code",
   "execution_count": 7,
   "metadata": {
    "ExecuteTime": {
     "end_time": "2020-05-10T08:47:17.841626Z",
     "start_time": "2020-05-10T08:47:17.817747Z"
    }
   },
   "outputs": [
    {
     "data": {
      "text/html": [
       "<div>\n",
       "<style scoped>\n",
       "    .dataframe tbody tr th:only-of-type {\n",
       "        vertical-align: middle;\n",
       "    }\n",
       "\n",
       "    .dataframe tbody tr th {\n",
       "        vertical-align: top;\n",
       "    }\n",
       "\n",
       "    .dataframe thead th {\n",
       "        text-align: right;\n",
       "    }\n",
       "</style>\n",
       "<table border=\"1\" class=\"dataframe\">\n",
       "  <thead>\n",
       "    <tr style=\"text-align: right;\">\n",
       "      <th></th>\n",
       "      <th>sex</th>\n",
       "      <th>age</th>\n",
       "      <th>finding</th>\n",
       "      <th>filename</th>\n",
       "      <th>clinical_notes</th>\n",
       "    </tr>\n",
       "  </thead>\n",
       "  <tbody>\n",
       "    <tr>\n",
       "      <th>0</th>\n",
       "      <td>M</td>\n",
       "      <td>65.0</td>\n",
       "      <td>COVID-19</td>\n",
       "      <td>auntminnie-a-2020_01_28_23_51_6665_2020_01_28_...</td>\n",
       "      <td>infiltrate in the upper lobe of the left lung</td>\n",
       "    </tr>\n",
       "  </tbody>\n",
       "</table>\n",
       "</div>"
      ],
      "text/plain": [
       "  sex   age   finding                                           filename  \\\n",
       "0   M  65.0  COVID-19  auntminnie-a-2020_01_28_23_51_6665_2020_01_28_...   \n",
       "\n",
       "                                  clinical_notes  \n",
       "0  infiltrate in the upper lobe of the left lung  "
      ]
     },
     "execution_count": 7,
     "metadata": {},
     "output_type": "execute_result"
    }
   ],
   "source": [
    "final_data.head(1)"
   ]
  },
  {
   "cell_type": "code",
   "execution_count": 8,
   "metadata": {
    "ExecuteTime": {
     "end_time": "2020-05-10T08:47:17.868730Z",
     "start_time": "2020-05-10T08:47:17.844781Z"
    }
   },
   "outputs": [
    {
     "data": {
      "text/html": [
       "<div>\n",
       "<style scoped>\n",
       "    .dataframe tbody tr th:only-of-type {\n",
       "        vertical-align: middle;\n",
       "    }\n",
       "\n",
       "    .dataframe tbody tr th {\n",
       "        vertical-align: top;\n",
       "    }\n",
       "\n",
       "    .dataframe thead th {\n",
       "        text-align: right;\n",
       "    }\n",
       "</style>\n",
       "<table border=\"1\" class=\"dataframe\">\n",
       "  <thead>\n",
       "    <tr style=\"text-align: right;\">\n",
       "      <th></th>\n",
       "      <th>sex</th>\n",
       "      <th>age</th>\n",
       "      <th>filename</th>\n",
       "      <th>clinical_notes</th>\n",
       "    </tr>\n",
       "    <tr>\n",
       "      <th>finding</th>\n",
       "      <th></th>\n",
       "      <th></th>\n",
       "      <th></th>\n",
       "      <th></th>\n",
       "    </tr>\n",
       "  </thead>\n",
       "  <tbody>\n",
       "    <tr>\n",
       "      <th>ARDS</th>\n",
       "      <td>3</td>\n",
       "      <td>3</td>\n",
       "      <td>4</td>\n",
       "      <td>4</td>\n",
       "    </tr>\n",
       "    <tr>\n",
       "      <th>COVID-19</th>\n",
       "      <td>124</td>\n",
       "      <td>114</td>\n",
       "      <td>144</td>\n",
       "      <td>141</td>\n",
       "    </tr>\n",
       "    <tr>\n",
       "      <th>COVID-19, ARDS</th>\n",
       "      <td>11</td>\n",
       "      <td>11</td>\n",
       "      <td>11</td>\n",
       "      <td>11</td>\n",
       "    </tr>\n",
       "    <tr>\n",
       "      <th>Chlamydophila</th>\n",
       "      <td>1</td>\n",
       "      <td>1</td>\n",
       "      <td>1</td>\n",
       "      <td>1</td>\n",
       "    </tr>\n",
       "    <tr>\n",
       "      <th>Klebsiella</th>\n",
       "      <td>1</td>\n",
       "      <td>1</td>\n",
       "      <td>1</td>\n",
       "      <td>1</td>\n",
       "    </tr>\n",
       "    <tr>\n",
       "      <th>Legionella</th>\n",
       "      <td>2</td>\n",
       "      <td>2</td>\n",
       "      <td>2</td>\n",
       "      <td>2</td>\n",
       "    </tr>\n",
       "    <tr>\n",
       "      <th>No Finding</th>\n",
       "      <td>2</td>\n",
       "      <td>2</td>\n",
       "      <td>2</td>\n",
       "      <td>2</td>\n",
       "    </tr>\n",
       "    <tr>\n",
       "      <th>Pneumocystis</th>\n",
       "      <td>9</td>\n",
       "      <td>8</td>\n",
       "      <td>12</td>\n",
       "      <td>12</td>\n",
       "    </tr>\n",
       "    <tr>\n",
       "      <th>SARS</th>\n",
       "      <td>16</td>\n",
       "      <td>16</td>\n",
       "      <td>16</td>\n",
       "      <td>16</td>\n",
       "    </tr>\n",
       "    <tr>\n",
       "      <th>Streptococcus</th>\n",
       "      <td>12</td>\n",
       "      <td>13</td>\n",
       "      <td>13</td>\n",
       "      <td>13</td>\n",
       "    </tr>\n",
       "  </tbody>\n",
       "</table>\n",
       "</div>"
      ],
      "text/plain": [
       "                sex  age  filename  clinical_notes\n",
       "finding                                           \n",
       "ARDS              3    3         4               4\n",
       "COVID-19        124  114       144             141\n",
       "COVID-19, ARDS   11   11        11              11\n",
       "Chlamydophila     1    1         1               1\n",
       "Klebsiella        1    1         1               1\n",
       "Legionella        2    2         2               2\n",
       "No Finding        2    2         2               2\n",
       "Pneumocystis      9    8        12              12\n",
       "SARS             16   16        16              16\n",
       "Streptococcus    12   13        13              13"
      ]
     },
     "execution_count": 8,
     "metadata": {},
     "output_type": "execute_result"
    }
   ],
   "source": [
    "illness = final_data.finding.unique()\n",
    "final_data.groupby('finding').count()"
   ]
  },
  {
   "cell_type": "code",
   "execution_count": 9,
   "metadata": {
    "ExecuteTime": {
     "end_time": "2020-05-10T08:47:17.876502Z",
     "start_time": "2020-05-10T08:47:17.872721Z"
    }
   },
   "outputs": [],
   "source": [
    "WIDTH = 256\n",
    "HEIGHT = 256"
   ]
  },
  {
   "cell_type": "code",
   "execution_count": 10,
   "metadata": {
    "ExecuteTime": {
     "end_time": "2020-05-10T08:47:17.885046Z",
     "start_time": "2020-05-10T08:47:17.880180Z"
    }
   },
   "outputs": [],
   "source": [
    "transformation = transforms.Compose([\n",
    "    transforms.Resize((WIDTH, HEIGHT)),\n",
    "    transforms.Grayscale(),\n",
    "    transforms.ColorJitter(\n",
    "        brightness=0.4,\n",
    "        contrast=0.4,\n",
    "        saturation=0.4,\n",
    "    ),\n",
    "    transforms.RandomRotation(10),\n",
    "    transforms.Normalize(mean=[0.485, 0.456, 0.406],\n",
    "                         std=[0.229, 0.224, 0.225]),\n",
    "    transforms.ToTensor()\n",
    "])"
   ]
  },
  {
   "cell_type": "code",
   "execution_count": 11,
   "metadata": {
    "ExecuteTime": {
     "end_time": "2020-05-10T08:47:17.892624Z",
     "start_time": "2020-05-10T08:47:17.887090Z"
    }
   },
   "outputs": [],
   "source": [
    "path = Path(os.getcwd())\n",
    "dataset_path = path / 'dataset'\n",
    "os.mkdir('dataset') if not dataset_path.is_dir() else None   "
   ]
  },
  {
   "cell_type": "code",
   "execution_count": 12,
   "metadata": {
    "ExecuteTime": {
     "end_time": "2020-05-10T08:47:17.902046Z",
     "start_time": "2020-05-10T08:47:17.895494Z"
    }
   },
   "outputs": [],
   "source": [
    "def copy(old_file_name,old_file_dir_path, new_file_name, new_file_dir_path):\n",
    "    old_file_location = old_file_dir_path / old_file_name\n",
    "    if old_file_location.is_file():\n",
    "        if new_file_dir_path.is_dir():\n",
    "            with open(old_file_location, 'rb') as c:\n",
    "                data = c.read()\n",
    "                with open(new_file_dir_path/new_file_name, 'wb') as p:\n",
    "                    p.write(data)\n",
    "        else:\n",
    "            raise FileNotFoundError(new_file_dir_path)\n",
    "    else:\n",
    "        raise FileNotFoundError(old_file_location)"
   ]
  },
  {
   "cell_type": "code",
   "execution_count": 13,
   "metadata": {
    "ExecuteTime": {
     "end_time": "2020-05-10T08:47:17.909187Z",
     "start_time": "2020-05-10T08:47:17.904582Z"
    }
   },
   "outputs": [
    {
     "name": "stdout",
     "output_type": "stream",
     "text": [
      "/home/ash/Desktop/covid-19-detection/covid-chestxray-dataset/images True\n"
     ]
    }
   ],
   "source": [
    "images_dir = repo_path / 'images'\n",
    "print(images_dir, images_dir.is_dir())"
   ]
  },
  {
   "cell_type": "code",
   "execution_count": 14,
   "metadata": {
    "ExecuteTime": {
     "end_time": "2020-05-10T08:47:18.189540Z",
     "start_time": "2020-05-10T08:47:17.912462Z"
    }
   },
   "outputs": [],
   "source": [
    "for disease in illness:\n",
    "    for x,data in enumerate(final_data[final_data.finding == disease].values):\n",
    "        sex, age,_, image_name, _ = data \n",
    "        fileType = image_name.split('.')[-1]\n",
    "        temp_path = dataset_path / disease.replace(', ','_')\n",
    "        os.mkdir(temp_path) if not temp_path.is_dir() else None\n",
    "        copy(image_name, images_dir,f\"{x}__{sex}__{age}.{fileType}\",temp_path)"
   ]
  },
  {
   "cell_type": "code",
   "execution_count": 15,
   "metadata": {
    "ExecuteTime": {
     "end_time": "2020-05-10T08:47:18.203356Z",
     "start_time": "2020-05-10T08:47:18.192847Z"
    }
   },
   "outputs": [
    {
     "name": "stdout",
     "output_type": "stream",
     "text": [
      "Chlamydophila       1\n",
      "Pneumocystis        12\n",
      "COVID-19_ARDS       11\n",
      "ARDS                4\n",
      "No Finding          2\n",
      "SARS                16\n",
      "Streptococcus       13\n",
      "COVID-19            144\n",
      "Klebsiella          1\n",
      "Legionella          2\n"
     ]
    }
   ],
   "source": [
    "max_item = 0\n",
    "for item in os.listdir(dataset_path):\n",
    "    size = len(os.listdir(dataset_path / item))\n",
    "    max_item = size if size > max_item else max_item\n",
    "    print(f\"{item:<20}{size}\")"
   ]
  },
  {
   "cell_type": "code",
   "execution_count": 18,
   "metadata": {
    "ExecuteTime": {
     "end_time": "2020-05-10T08:47:21.578846Z",
     "start_time": "2020-05-10T08:47:21.567159Z"
    }
   },
   "outputs": [],
   "source": [
    "from Net import CustomNet"
   ]
  },
  {
   "cell_type": "code",
   "execution_count": 20,
   "metadata": {
    "ExecuteTime": {
     "end_time": "2020-05-10T08:48:01.731807Z",
     "start_time": "2020-05-10T08:48:01.530445Z"
    }
   },
   "outputs": [],
   "source": [
    "model = CustomNet(3)"
   ]
  },
  {
   "cell_type": "code",
   "execution_count": null,
   "metadata": {},
   "outputs": [],
   "source": []
  }
 ],
 "metadata": {
  "kernelspec": {
   "display_name": "Python 3",
   "language": "python",
   "name": "python3"
  },
  "language_info": {
   "codemirror_mode": {
    "name": "ipython",
    "version": 3
   },
   "file_extension": ".py",
   "mimetype": "text/x-python",
   "name": "python",
   "nbconvert_exporter": "python",
   "pygments_lexer": "ipython3",
   "version": "3.7.7"
  }
 },
 "nbformat": 4,
 "nbformat_minor": 4
}
