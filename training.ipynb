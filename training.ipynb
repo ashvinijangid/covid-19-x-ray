{
 "cells": [
  {
   "cell_type": "code",
   "execution_count": null,
   "metadata": {
    "ExecuteTime": {
     "end_time": "2020-05-11T21:25:35.469678Z",
     "start_time": "2020-05-11T21:25:35.183691Z"
    }
   },
   "outputs": [],
   "source": [
    "from warnings import filterwarnings\n",
    "filterwarnings('ignore')\n",
    "%matplotlib inline"
   ]
  },
  {
   "cell_type": "code",
   "execution_count": null,
   "metadata": {
    "ExecuteTime": {
     "end_time": "2020-05-11T21:25:35.473926Z",
     "start_time": "2020-05-11T21:25:35.471663Z"
    }
   },
   "outputs": [],
   "source": [
    "!git clone https://github.com/ieee8023/covid-chestxray-dataset.git\n",
    "!wget https://raw.githubusercontent.com/ashvinijangid/covid-19-x-ray/master/data_tranform.py\n",
    "!wget https://raw.githubusercontent.com/ashvinijangid/covid-19-x-ray/master/dataset.py\n",
    "!wget https://raw.githubusercontent.com/ashvinijangid/covid-19-x-ray/master/model.py\n",
    "!wget https://raw.githubusercontent.com/ashvinijangid/covid-19-x-ray/master/train.py"
   ]
  },
  {
   "cell_type": "code",
   "execution_count": null,
   "metadata": {
    "ExecuteTime": {
     "end_time": "2020-05-11T21:25:36.227901Z",
     "start_time": "2020-05-11T21:25:35.475798Z"
    }
   },
   "outputs": [],
   "source": [
    "from train import train, predict"
   ]
  },
  {
   "cell_type": "code",
   "execution_count": null,
   "metadata": {
    "ExecuteTime": {
     "end_time": "2020-05-11T21:33:17.504853Z",
     "start_time": "2020-05-11T21:25:36.229241Z"
    }
   },
   "outputs": [],
   "source": [
    "train(10, 32)"
   ]
  },
  {
   "cell_type": "code",
   "execution_count": null,
   "metadata": {},
   "outputs": [],
   "source": [
    "predict()"
   ]
  }
 ],
 "metadata": {
  "kernelspec": {
   "display_name": "Python 3",
   "language": "python",
   "name": "python3"
  },
  "language_info": {
   "codemirror_mode": {
    "name": "ipython",
    "version": 3
   },
   "file_extension": ".py",
   "mimetype": "text/x-python",
   "name": "python",
   "nbconvert_exporter": "python",
   "pygments_lexer": "ipython3",
   "version": "3.7.7"
  }
 },
 "nbformat": 4,
 "nbformat_minor": 4
}
